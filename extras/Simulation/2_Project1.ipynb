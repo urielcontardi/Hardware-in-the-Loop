{
 "cells": [
  {
   "cell_type": "markdown",
   "metadata": {},
   "source": [
    "# Import Libraries"
   ]
  },
  {
   "cell_type": "code",
   "execution_count": 4,
   "metadata": {},
   "outputs": [],
   "source": [
    "import numpy as np\n",
    "from scipy.signal import cont2discrete\n",
    "from tabulate import tabulate\n",
    "import math"
   ]
  },
  {
   "cell_type": "markdown",
   "metadata": {},
   "source": [
    "![](img/InverterOut1.png)\n",
    "![](img/InverterOut2.png)"
   ]
  },
  {
   "cell_type": "markdown",
   "metadata": {},
   "source": [
    "The state-space model of the LCL filter for this project was modeled in LCL_Model.ipynb. In this project, we will obtain the A and B matrices based on the design parameters already determined."
   ]
  },
  {
   "cell_type": "markdown",
   "metadata": {},
   "source": [
    "$$\n",
    "\\dot{x} = Ax + Bu\n",
    "$$\n",
    "\n",
    "$$\n",
    "y = Cx + Du\n",
    "$$"
   ]
  },
  {
   "cell_type": "markdown",
   "metadata": {},
   "source": [
    "$$\\frac{d}{dt} \\begin{bmatrix} i_{L_{1}}(t) \\\\ i_{L_{d}}(t) \\\\ i_{L_{2}}(t) \\\\ v_{C_{f}}(t) \\\\ v_{C_{d}}(t) \\end{bmatrix} = \n",
    "\n",
    "\\begin{bmatrix} -\\frac{R_{1}}{L_{1}} & 0 & 0 & -\\frac{1}{L_{1}} & 0 \\\\ 0 & 0 & 0 & \\frac{1}{L_{d}} & -\\frac{1}{L_{d}} \\\\ 0 & 0 & -\\frac{R_{2}}{L_{2}} & \\frac{1}{L_{2}} & 0 \\\\ \\frac{1}{C_{f}} & -\\frac{1}{C_{f}} & -\\frac{1}{C_{f}} & -\\frac{1}{C_{f} R_{d}} & \\frac{1}{C_{f} R_{d}} \\\\ 0 & \\frac{1}{C_{d}} & 0 & \\frac{1}{C_{d} R_{d}} & -\\frac{1}{C_{d} R_{d}} \\end{bmatrix} \\begin{bmatrix} i_{L_{1}}(t) \\\\ i_{L_{d}}(t) \\\\ i_{L_{2}}(t) \\\\ v_{C_{f}}(t) \\\\ v_{C_{d}}(t) \\end{bmatrix}\n",
    "\n",
    "+ \\begin{bmatrix} \\frac{1}{L_{1}} & 0 \\\\ 0 & 0 \\\\ 0 & -\\frac{1}{L_{2}} \\\\ 0 & 0 \\\\ 0 & 0 \\end{bmatrix} \\begin{bmatrix} V_{1} \\\\ V_{2} \\end{bmatrix} $$"
   ]
  },
  {
   "cell_type": "markdown",
   "metadata": {},
   "source": [
    "# Parameters"
   ]
  },
  {
   "cell_type": "code",
   "execution_count": 5,
   "metadata": {},
   "outputs": [],
   "source": [
    "# V1 = V_Link = 1500V\n",
    "\n",
    "# LC Filter (Inverter Side)\n",
    "R1 = 1e-6\n",
    "L1 = 110e-6\n",
    "Cf = 50e-6 * 3 # Delta Connection multiply *3\n",
    "\n",
    "# Damping Filter\n",
    "Cd = 25e-6\n",
    "Rd = 2.5\n",
    "Ld = 850e-6\n",
    "\n",
    "# Grid Parameters\n",
    "L2 = 34.5e3**2 / (8.33 * 4.42e6 * 2 * np.pi * 60)\n",
    "R2 = 0.1\n",
    "\n",
    "# V2\n",
    "# 925V RMS na linha \n",
    "# 925V * sqrt(2) / sqrt(3) = 755V\n",
    "\n",
    "# Calc Step\n",
    "Ts = 500e-9"
   ]
  },
  {
   "cell_type": "code",
   "execution_count": 6,
   "metadata": {},
   "outputs": [],
   "source": [
    "A = np.array([\n",
    "    [-R1/L1, 0, 0, -1/L1, 0],\n",
    "    [0, 0, 0, 1/Ld, -1/Ld],\n",
    "    [0, 0, -R2/L2, 1/L2, 0],\n",
    "    [1/Cf, -1/Cf, -1/Cf, -1/(Cf*Rd), 1/(Cf*Rd)],\n",
    "    [0, 1/Cd, 0, 1/(Cd*Rd), -1/(Cd*Rd)],\n",
    "])\n",
    "\n",
    "B = np.array([\n",
    "    [1/L1, 0],\n",
    "    [0, 0],\n",
    "    [0, -1/L2],\n",
    "    [0, 0],\n",
    "    [0, 0]\n",
    "])\n",
    "\n",
    "C = np.eye(5)\n",
    "D = np.zeros((5, 2))"
   ]
  },
  {
   "cell_type": "code",
   "execution_count": 7,
   "metadata": {},
   "outputs": [
    {
     "name": "stdout",
     "output_type": "stream",
     "text": [
      "\n",
      " Matrix A =\n",
      "╒════════════╤═══════╤══════════╤═════════╤════════╕\n",
      "│   -0.00909 │     0 │     0    │ -9090   │      0 │\n",
      "├────────────┼───────┼──────────┼─────────┼────────┤\n",
      "│    0       │     0 │     0    │  1180   │  -1180 │\n",
      "├────────────┼───────┼──────────┼─────────┼────────┤\n",
      "│    0       │     0 │    -1.17 │    11.7 │      0 │\n",
      "├────────────┼───────┼──────────┼─────────┼────────┤\n",
      "│ 6670       │ -6670 │ -6670    │ -2670   │   2670 │\n",
      "├────────────┼───────┼──────────┼─────────┼────────┤\n",
      "│    0       │ 40000 │     0    │ 16000   │ -16000 │\n",
      "╘════════════╧═══════╧══════════╧═════════╧════════╛\n"
     ]
    }
   ],
   "source": [
    "#print(A)\n",
    "print(\"\\n Matrix A =\")\n",
    "print(tabulate([[f\"{num:.2e}\" for num in linha] for linha in A], tablefmt=\"fancy_grid\"))"
   ]
  },
  {
   "cell_type": "code",
   "execution_count": 9,
   "metadata": {},
   "outputs": [
    {
     "name": "stdout",
     "output_type": "stream",
     "text": [
      "[[9090.90909091    0.        ]\n",
      " [   0.            0.        ]\n",
      " [   0.          -11.66165528]\n",
      " [   0.            0.        ]\n",
      " [   0.            0.        ]]\n"
     ]
    }
   ],
   "source": [
    "print(B)"
   ]
  },
  {
   "cell_type": "markdown",
   "metadata": {},
   "source": [
    "# State Space Discretization"
   ]
  },
  {
   "cell_type": "markdown",
   "metadata": {},
   "source": [
    "$$\n",
    "\\dot{x} = Ax + Bu\n",
    "$$"
   ]
  },
  {
   "cell_type": "markdown",
   "metadata": {},
   "source": [
    "$$\n",
    "x_{k+1} = A_dx_k + B_du_k\n",
    "$$\n",
    "\n",
    "$$\n",
    "y_k = C_d x_k + D_du_k\n",
    "$$"
   ]
  },
  {
   "cell_type": "code",
   "execution_count": 40,
   "metadata": {},
   "outputs": [],
   "source": [
    "Ad, Bd, _, _, _ = cont2discrete((A, B, C, D), Ts, method='euler')"
   ]
  },
  {
   "cell_type": "code",
   "execution_count": 41,
   "metadata": {},
   "outputs": [
    {
     "name": "stdout",
     "output_type": "stream",
     "text": [
      "\n",
      " Matrix Ad =\n",
      "╒════════════╤═════════════╤═════════════╤══════════════╤══════════════╕\n",
      "│ 1          │  0          │  0          │ -0.00454545  │  0           │\n",
      "├────────────┼─────────────┼─────────────┼──────────────┼──────────────┤\n",
      "│ 0          │  1          │  0          │  0.000588235 │ -0.000588235 │\n",
      "├────────────┼─────────────┼─────────────┼──────────────┼──────────────┤\n",
      "│ 0          │  0          │  0.999999   │  5.83083e-06 │  0           │\n",
      "├────────────┼─────────────┼─────────────┼──────────────┼──────────────┤\n",
      "│ 0.00333333 │ -0.00333333 │ -0.00333333 │  0.998667    │  0.00133333  │\n",
      "├────────────┼─────────────┼─────────────┼──────────────┼──────────────┤\n",
      "│ 0          │  0.02       │  0          │  0.008       │  0.992       │\n",
      "╘════════════╧═════════════╧═════════════╧══════════════╧══════════════╛\n",
      "\n",
      " Matrix Bd =\n",
      "╒════════════╤══════════════╕\n",
      "│ 0.00454545 │  0           │\n",
      "├────────────┼──────────────┤\n",
      "│ 0          │  0           │\n",
      "├────────────┼──────────────┤\n",
      "│ 0          │ -5.83083e-06 │\n",
      "├────────────┼──────────────┤\n",
      "│ 0          │  0           │\n",
      "├────────────┼──────────────┤\n",
      "│ 0          │  0           │\n",
      "╘════════════╧══════════════╛\n"
     ]
    }
   ],
   "source": [
    "print(\"\\n Matrix Ad =\")\n",
    "print(tabulate([[f\"{num:.5e}\" for num in linha] for linha in Ad], tablefmt=\"fancy_grid\"))\n",
    "\n",
    "print(\"\\n Matrix Bd =\")\n",
    "print(tabulate([[f\"{num:.5e}\" for num in linha] for linha in Bd], tablefmt=\"fancy_grid\"))"
   ]
  },
  {
   "cell_type": "code",
   "execution_count": 42,
   "metadata": {},
   "outputs": [],
   "source": [
    "def float2Fixed(value, intBits, fracBits, signed=True):\n",
    "    \"\"\"\n",
    "    Converte um número de ponto flutuante para ponto fixo com a quantidade de bits especificada.\n",
    "    \n",
    "    :param value: O número em ponto flutuante a ser convertido.\n",
    "    :param intBits: Número de bits para a parte inteira.\n",
    "    :param fracBits: Número de bits para a parte fracionária.\n",
    "    :param signed: Se True, usa representação assinada; se False, usa representação não assinada.\n",
    "    :return: O número em ponto fixo se estiver dentro do intervalo, ou uma mensagem de erro se extrapolar.\n",
    "    \"\"\"\n",
    "    if intBits <= 0 or fracBits < 0:\n",
    "        return \"Número de bits deve ser positivo e parte fracionária não pode ser negativa.\"\n",
    "\n",
    "    totalBits = intBits + fracBits\n",
    "    factor = 2 ** fracBits\n",
    "\n",
    "    if signed:\n",
    "        maxIntValue = (2 ** (intBits - 1)) - 1\n",
    "        minIntValue = -2 ** (intBits - 1)\n",
    "    else:\n",
    "        maxIntValue = (2 ** intBits) - 1\n",
    "        minIntValue = 0\n",
    "\n",
    "    # Verifica os limites do valor\n",
    "    if value < minIntValue or value > maxIntValue + (1 - 1 / factor):\n",
    "        return \"Valor fora do intervalo permitido para a quantidade de bits especificada.\"\n",
    "\n",
    "    # Converte o número para ponto fixo\n",
    "    fixedValue = int(round(value * factor))\n",
    "\n",
    "    # Verifica o intervalo do ponto fixo\n",
    "    if signed:\n",
    "        if fixedValue < (minIntValue * factor) or fixedValue > (maxIntValue * factor):\n",
    "            return \"Valor fora do intervalo permitido para a quantidade de bits especificada.\"\n",
    "    else:\n",
    "        if fixedValue < 0 or fixedValue > (maxIntValue * factor):\n",
    "            return \"Valor fora do intervalo permitido para a quantidade de bits especificada.\"\n",
    "\n",
    "    return fixedValue\n",
    "\n",
    "def convertMatrix(matrix, intBits, fracBits, signed=True):\n",
    "    \"\"\"\n",
    "    Converte todos os elementos de uma matriz de ponto flutuante para ponto fixo.\n",
    "    \n",
    "    :param matrix: A matriz de ponto flutuante a ser convertida.\n",
    "    :param intBits: Número de bits para a parte inteira.\n",
    "    :param fracBits: Número de bits para a parte fracionária.\n",
    "    :param signed: Se True, usa representação assinada; se False, usa representação não assinada.\n",
    "    :return: A matriz convertida para ponto fixo.\n",
    "    \"\"\"\n",
    "    # Itera sobre a matriz e aplica a conversão\n",
    "    fixedMatrix = [[float2Fixed(element, intBits, fracBits, signed) for element in row] for row in matrix]\n",
    "    \n",
    "    return fixedMatrix"
   ]
  },
  {
   "cell_type": "code",
   "execution_count": 43,
   "metadata": {},
   "outputs": [],
   "source": [
    "# Converter as matrizes para ponto fixo\n",
    "intBits = 16\n",
    "fracBits = 16\n",
    "Ad_fp = convertMatrix(Ad, intBits, fracBits)\n",
    "Bd_fp = convertMatrix(Bd, intBits, fracBits)"
   ]
  },
  {
   "cell_type": "code",
   "execution_count": 44,
   "metadata": {},
   "outputs": [
    {
     "name": "stdout",
     "output_type": "stream",
     "text": [
      "\n",
      " Matrix Ad_FxedPoint =\n",
      "╒═══════╤═══════╤═══════╤═══════╤═══════╕\n",
      "│ 65536 │     0 │     0 │  -298 │     0 │\n",
      "├───────┼───────┼───────┼───────┼───────┤\n",
      "│     0 │ 65536 │     0 │    39 │   -39 │\n",
      "├───────┼───────┼───────┼───────┼───────┤\n",
      "│     0 │     0 │ 65536 │     0 │     0 │\n",
      "├───────┼───────┼───────┼───────┼───────┤\n",
      "│   218 │  -218 │  -218 │ 65449 │    87 │\n",
      "├───────┼───────┼───────┼───────┼───────┤\n",
      "│     0 │  1311 │     0 │   524 │ 65012 │\n",
      "╘═══════╧═══════╧═══════╧═══════╧═══════╛\n",
      "\n",
      " Matrix Bd_FxedPoint =\n",
      "╒═════╤═══╕\n",
      "│ 298 │ 0 │\n",
      "├─────┼───┤\n",
      "│   0 │ 0 │\n",
      "├─────┼───┤\n",
      "│   0 │ 0 │\n",
      "├─────┼───┤\n",
      "│   0 │ 0 │\n",
      "├─────┼───┤\n",
      "│   0 │ 0 │\n",
      "╘═════╧═══╛\n"
     ]
    }
   ],
   "source": [
    "print(\"\\n Matrix Ad_FxedPoint =\")\n",
    "print(tabulate([[f\"{num:.5e}\" for num in linha] for linha in Ad_fp], tablefmt=\"fancy_grid\"))\n",
    "\n",
    "print(\"\\n Matrix Bd_FxedPoint =\")\n",
    "print(tabulate([[f\"{num:.5e}\" for num in linha] for linha in Bd_fp], tablefmt=\"fancy_grid\"))"
   ]
  },
  {
   "cell_type": "code",
   "execution_count": 45,
   "metadata": {},
   "outputs": [],
   "source": [
    "def dec2Hex(numero, bits):\n",
    "    \"\"\"\n",
    "    Converte um número decimal (positivo ou negativo) para hexadecimal com uma quantidade específica de bits, usando complemento de dois.\n",
    "\n",
    "    Args:\n",
    "    numero (int): O número decimal a ser convertido.\n",
    "    bits (int): A quantidade de bits a ser utilizada.\n",
    "\n",
    "    Returns:\n",
    "    str: O número hexadecimal representado como uma string com a quantidade de bits especificada.\n",
    "    \"\"\"\n",
    "    # Calcula o número máximo e mínimo representável com a quantidade de bits\n",
    "    max_valor = (1 << bits) - 1\n",
    "    min_valor = - (1 << (bits - 1))\n",
    "    \n",
    "    # Garante que o número esteja dentro do intervalo permitido\n",
    "    if not (min_valor <= numero <= max_valor):\n",
    "        raise ValueError(f\"O número deve estar entre {min_valor} e {max_valor} para {bits} bits.\")\n",
    "    \n",
    "    # Se o número é negativo, convertemos para complemento de dois\n",
    "    if numero < 0:\n",
    "        numero = (1 << bits) + numero\n",
    "    \n",
    "    # Converte o número para hexadecimal e formata com a quantidade de bits\n",
    "    hexadecimal = format(numero, 'X').zfill(bits // 4)\n",
    "    \n",
    "    return hexadecimal\n"
   ]
  },
  {
   "cell_type": "code",
   "execution_count": 46,
   "metadata": {},
   "outputs": [],
   "source": [
    "totalBits = intBits + fracBits\n",
    "Ad_fpHex = np.array([[dec2Hex(x, totalBits) for x in linha] for linha in Ad_fp])\n",
    "Bd_fpHex = np.array([[dec2Hex(x, totalBits) for x in linha] for linha in Bd_fp])"
   ]
  },
  {
   "cell_type": "code",
   "execution_count": 48,
   "metadata": {},
   "outputs": [
    {
     "data": {
      "text/plain": [
       "array([['00010000', '00000000', '00000000', 'FFFFFED6', '00000000'],\n",
       "       ['00000000', '00010000', '00000000', '00000027', 'FFFFFFD9'],\n",
       "       ['00000000', '00000000', '00010000', '00000000', '00000000'],\n",
       "       ['000000DA', 'FFFFFF26', 'FFFFFF26', '0000FFA9', '00000057'],\n",
       "       ['00000000', '0000051F', '00000000', '0000020C', '0000FDF4']],\n",
       "      dtype='<U8')"
      ]
     },
     "execution_count": 48,
     "metadata": {},
     "output_type": "execute_result"
    }
   ],
   "source": [
    "Ad_fpHex"
   ]
  },
  {
   "cell_type": "code",
   "execution_count": 49,
   "metadata": {},
   "outputs": [
    {
     "data": {
      "text/plain": [
       "array([['0000012A', '00000000'],\n",
       "       ['00000000', '00000000'],\n",
       "       ['00000000', '00000000'],\n",
       "       ['00000000', '00000000'],\n",
       "       ['00000000', '00000000']], dtype='<U8')"
      ]
     },
     "execution_count": 49,
     "metadata": {},
     "output_type": "execute_result"
    }
   ],
   "source": [
    "Bd_fpHex"
   ]
  },
  {
   "cell_type": "code",
   "execution_count": 52,
   "metadata": {},
   "outputs": [
    {
     "data": {
      "text/plain": [
       "'FD120000'"
      ]
     },
     "execution_count": 52,
     "metadata": {},
     "output_type": "execute_result"
    }
   ],
   "source": [
    "dec2Hex(float2Fixed(-1500/2, intBits, fracBits), totalBits)"
   ]
  }
 ],
 "metadata": {
  "kernelspec": {
   "display_name": "Python 3",
   "language": "python",
   "name": "python3"
  },
  "language_info": {
   "codemirror_mode": {
    "name": "ipython",
    "version": 3
   },
   "file_extension": ".py",
   "mimetype": "text/x-python",
   "name": "python",
   "nbconvert_exporter": "python",
   "pygments_lexer": "ipython3",
   "version": "3.12.3"
  }
 },
 "nbformat": 4,
 "nbformat_minor": 2
}
