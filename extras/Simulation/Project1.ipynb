{
 "cells": [
  {
   "cell_type": "markdown",
   "metadata": {},
   "source": [
    "# Import Libraries"
   ]
  },
  {
   "cell_type": "code",
   "execution_count": 1,
   "metadata": {},
   "outputs": [],
   "source": [
    "import numpy as np\n",
    "from scipy.signal import cont2discrete\n",
    "from tabulate import tabulate\n",
    "import math"
   ]
  },
  {
   "cell_type": "markdown",
   "metadata": {},
   "source": [
    "![](img/InverterOut1.png)\n",
    "![](img/InverterOut2.png)"
   ]
  },
  {
   "cell_type": "markdown",
   "metadata": {},
   "source": [
    "The state-space model of the LCL filter for this project was modeled in LCL_Model.ipynb. In this project, we will obtain the A and B matrices based on the design parameters already determined."
   ]
  },
  {
   "cell_type": "markdown",
   "metadata": {},
   "source": [
    "$$\n",
    "\\dot{x} = Ax + Bu\n",
    "$$\n",
    "\n",
    "$$\n",
    "y = Cx + Du\n",
    "$$"
   ]
  },
  {
   "cell_type": "markdown",
   "metadata": {},
   "source": [
    "$$\\frac{d}{dt} \\begin{bmatrix} i_{L_{1}}(t) \\\\ i_{L_{d}}(t) \\\\ i_{L_{2}}(t) \\\\ v_{C_{f}}(t) \\\\ v_{C_{d}}(t) \\end{bmatrix} = \n",
    "\n",
    "\\begin{bmatrix} -\\frac{R_{1}}{L_{1}} & 0 & 0 & -\\frac{1}{L_{1}} & 0 \\\\ 0 & 0 & 0 & \\frac{1}{L_{d}} & -\\frac{1}{L_{d}} \\\\ 0 & 0 & -\\frac{R_{2}}{L_{2}} & \\frac{1}{L_{2}} & 0 \\\\ \\frac{1}{C_{f}} & -\\frac{1}{C_{f}} & -\\frac{1}{C_{f}} & -\\frac{1}{C_{f} R_{d}} & \\frac{1}{C_{f} R_{d}} \\\\ 0 & \\frac{1}{C_{d}} & 0 & \\frac{1}{C_{d} R_{d}} & -\\frac{1}{C_{d} R_{d}} \\end{bmatrix} \\begin{bmatrix} i_{L_{1}}(t) \\\\ i_{L_{d}}(t) \\\\ i_{L_{2}}(t) \\\\ v_{C_{f}}(t) \\\\ v_{C_{d}}(t) \\end{bmatrix}\n",
    "\n",
    "+ \\begin{bmatrix} \\frac{1}{L_{1}} & 0 \\\\ 0 & 0 \\\\ 0 & -\\frac{1}{L_{2}} \\\\ 0 & 0 \\\\ 0 & 0 \\end{bmatrix} \\begin{bmatrix} V_{1} \\\\ V_{2} \\end{bmatrix} $$"
   ]
  },
  {
   "cell_type": "markdown",
   "metadata": {},
   "source": [
    "# Parameters"
   ]
  },
  {
   "cell_type": "code",
   "execution_count": 2,
   "metadata": {},
   "outputs": [],
   "source": [
    "# V1 = V_Link = 1500V\n",
    "\n",
    "# LC Filter (Inverter Side)\n",
    "R1 = 1e-6\n",
    "L1 = 110e-6\n",
    "Cf = 50e-6 * 3 # Delta Connection multiply *3\n",
    "\n",
    "# Damping Filter\n",
    "Cd = 25e-6\n",
    "Rd = 2.5\n",
    "Ld = 850e-6\n",
    "\n",
    "# Grid Parameters\n",
    "L2 = 34.5e3**2 / (8.33 * 4.42e6 * 2 * np.pi * 60)\n",
    "R2 = 0.1\n",
    "\n",
    "# V2\n",
    "# 925V RMS na linha \n",
    "# 925V * sqrt(2) / sqrt(3) = 755V\n",
    "\n",
    "# Calc Step\n",
    "Ts = 500e-9"
   ]
  },
  {
   "cell_type": "code",
   "execution_count": 3,
   "metadata": {},
   "outputs": [],
   "source": [
    "A = np.array([\n",
    "    [-R1/L1, 0, 0, -1/L1, 0],\n",
    "    [0, 0, 0, 1/Ld, -1/Ld],\n",
    "    [0, 0, -R2/L2, 1/L2, 0],\n",
    "    [1/Cf, -1/Cf, -1/Cf, -1/(Cf*Rd), 1/(Cf*Rd)],\n",
    "    [0, 1/Cd, 0, 1/(Cd*Rd), -1/(Cd*Rd)],\n",
    "])\n",
    "\n",
    "B = np.array([\n",
    "    [1/L1, 0],\n",
    "    [0, 0],\n",
    "    [0, -1/L2],\n",
    "    [0, 0],\n",
    "    [0, 0]\n",
    "])\n",
    "\n",
    "C = np.eye(5)\n",
    "D = np.zeros((5, 2))"
   ]
  },
  {
   "cell_type": "code",
   "execution_count": 4,
   "metadata": {},
   "outputs": [
    {
     "name": "stdout",
     "output_type": "stream",
     "text": [
      "\n",
      " Matrix A =\n",
      "╒════════════╤═══════╤══════════╤═════════╤════════╕\n",
      "│   -0.00909 │     0 │     0    │ -9090   │      0 │\n",
      "├────────────┼───────┼──────────┼─────────┼────────┤\n",
      "│    0       │     0 │     0    │  1180   │  -1180 │\n",
      "├────────────┼───────┼──────────┼─────────┼────────┤\n",
      "│    0       │     0 │    -1.17 │    11.7 │      0 │\n",
      "├────────────┼───────┼──────────┼─────────┼────────┤\n",
      "│ 6670       │ -6670 │ -6670    │ -2670   │   2670 │\n",
      "├────────────┼───────┼──────────┼─────────┼────────┤\n",
      "│    0       │ 40000 │     0    │ 16000   │ -16000 │\n",
      "╘════════════╧═══════╧══════════╧═════════╧════════╛\n"
     ]
    }
   ],
   "source": [
    "#print(A)\n",
    "print(\"\\n Matrix A =\")\n",
    "print(tabulate([[f\"{num:.2e}\" for num in linha] for linha in A], tablefmt=\"fancy_grid\"))"
   ]
  },
  {
   "cell_type": "code",
   "execution_count": 5,
   "metadata": {},
   "outputs": [
    {
     "name": "stdout",
     "output_type": "stream",
     "text": [
      "[[9090.90909091    0.        ]\n",
      " [   0.            0.        ]\n",
      " [   0.          -11.66165528]\n",
      " [   0.            0.        ]\n",
      " [   0.            0.        ]]\n"
     ]
    }
   ],
   "source": [
    "print(B)"
   ]
  },
  {
   "cell_type": "markdown",
   "metadata": {},
   "source": [
    "# State Space Discretization"
   ]
  },
  {
   "cell_type": "markdown",
   "metadata": {},
   "source": [
    "$$\n",
    "\\dot{x} = Ax + Bu\n",
    "$$"
   ]
  },
  {
   "cell_type": "markdown",
   "metadata": {},
   "source": [
    "$$\n",
    "x_{k+1} = A_dx_k + B_du_k\n",
    "$$\n",
    "\n",
    "$$\n",
    "y_k = C_d x_k + D_du_k\n",
    "$$"
   ]
  },
  {
   "cell_type": "code",
   "execution_count": 6,
   "metadata": {},
   "outputs": [],
   "source": [
    "Ad, Bd, _, _, _ = cont2discrete((A, B, C, D), Ts, method='euler')"
   ]
  },
  {
   "cell_type": "code",
   "execution_count": 7,
   "metadata": {},
   "outputs": [
    {
     "name": "stdout",
     "output_type": "stream",
     "text": [
      "\n",
      " Matrix Ad =\n",
      "╒════════════╤═════════════╤═════════════╤══════════════╤══════════════╕\n",
      "│ 1          │  0          │  0          │ -0.00454545  │  0           │\n",
      "├────────────┼─────────────┼─────────────┼──────────────┼──────────────┤\n",
      "│ 0          │  1          │  0          │  0.000588235 │ -0.000588235 │\n",
      "├────────────┼─────────────┼─────────────┼──────────────┼──────────────┤\n",
      "│ 0          │  0          │  0.999999   │  5.83083e-06 │  0           │\n",
      "├────────────┼─────────────┼─────────────┼──────────────┼──────────────┤\n",
      "│ 0.00333333 │ -0.00333333 │ -0.00333333 │  0.998667    │  0.00133333  │\n",
      "├────────────┼─────────────┼─────────────┼──────────────┼──────────────┤\n",
      "│ 0          │  0.02       │  0          │  0.008       │  0.992       │\n",
      "╘════════════╧═════════════╧═════════════╧══════════════╧══════════════╛\n",
      "\n",
      " Matrix Bd =\n",
      "╒════════════╤══════════════╕\n",
      "│ 0.00454545 │  0           │\n",
      "├────────────┼──────────────┤\n",
      "│ 0          │  0           │\n",
      "├────────────┼──────────────┤\n",
      "│ 0          │ -5.83083e-06 │\n",
      "├────────────┼──────────────┤\n",
      "│ 0          │  0           │\n",
      "├────────────┼──────────────┤\n",
      "│ 0          │  0           │\n",
      "╘════════════╧══════════════╛\n"
     ]
    }
   ],
   "source": [
    "print(\"\\n Matrix Ad =\")\n",
    "print(tabulate([[f\"{num:.5e}\" for num in linha] for linha in Ad], tablefmt=\"fancy_grid\"))\n",
    "\n",
    "print(\"\\n Matrix Bd =\")\n",
    "print(tabulate([[f\"{num:.5e}\" for num in linha] for linha in Bd], tablefmt=\"fancy_grid\"))"
   ]
  },
  {
   "cell_type": "code",
   "execution_count": 8,
   "metadata": {},
   "outputs": [
    {
     "name": "stdout",
     "output_type": "stream",
     "text": [
      "\n",
      " Matrix Ad_FxedPoint =\n",
      "╒════════════════╤═════════════════╤═════════════════╤══════════════════╤═════════════════╕\n",
      "│     4.1943e+06 │      0          │      0          │ -19065           │     0           │\n",
      "├────────────────┼─────────────────┼─────────────────┼──────────────────┼─────────────────┤\n",
      "│     0          │      4.1943e+06 │      0          │   2467           │ -2467           │\n",
      "├────────────────┼─────────────────┼─────────────────┼──────────────────┼─────────────────┤\n",
      "│     0          │      0          │      4.1943e+06 │     24           │     0           │\n",
      "├────────────────┼─────────────────┼─────────────────┼──────────────────┼─────────────────┤\n",
      "│ 13981          │ -13981          │ -13981          │      4.18871e+06 │  5592           │\n",
      "├────────────────┼─────────────────┼─────────────────┼──────────────────┼─────────────────┤\n",
      "│     0          │  83886          │      0          │  33554           │     4.16075e+06 │\n",
      "╘════════════════╧═════════════════╧═════════════════╧══════════════════╧═════════════════╛\n",
      "\n",
      " Matrix Bd_FxedPoint =\n",
      "╒═══════╤═════╕\n",
      "│ 19065 │   0 │\n",
      "├───────┼─────┤\n",
      "│     0 │   0 │\n",
      "├───────┼─────┤\n",
      "│     0 │ -24 │\n",
      "├───────┼─────┤\n",
      "│     0 │   0 │\n",
      "├───────┼─────┤\n",
      "│     0 │   0 │\n",
      "╘═══════╧═════╛\n"
     ]
    }
   ],
   "source": [
    "# Definir o fator de escala para Q22\n",
    "scale_factor = 2**22\n",
    "\n",
    "# Converter a matriz para ponto fixo\n",
    "Ad_fp = np.round(Ad * scale_factor).astype(int)\n",
    "Bd_fp = np.round(Bd * scale_factor).astype(int)\n",
    "\n",
    "print(\"\\n Matrix Ad_FxedPoint =\")\n",
    "print(tabulate([[f\"{num:.5e}\" for num in linha] for linha in Ad_fp], tablefmt=\"fancy_grid\"))\n",
    "\n",
    "print(\"\\n Matrix Bd_FxedPoint =\")\n",
    "print(tabulate([[f\"{num:.5e}\" for num in linha] for linha in Bd_fp], tablefmt=\"fancy_grid\"))"
   ]
  }
 ],
 "metadata": {
  "kernelspec": {
   "display_name": "Python 3",
   "language": "python",
   "name": "python3"
  },
  "language_info": {
   "codemirror_mode": {
    "name": "ipython",
    "version": 3
   },
   "file_extension": ".py",
   "mimetype": "text/x-python",
   "name": "python",
   "nbconvert_exporter": "python",
   "pygments_lexer": "ipython3",
   "version": "3.11.4"
  }
 },
 "nbformat": 4,
 "nbformat_minor": 2
}
